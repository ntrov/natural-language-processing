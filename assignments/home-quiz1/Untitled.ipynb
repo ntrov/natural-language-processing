{
 "cells": [
  {
   "cell_type": "code",
   "execution_count": 13,
   "metadata": {},
   "outputs": [],
   "source": [
    "import pandas as pd\n",
    "from sklearn.feature_extraction.text import TfidfVectorizer\n",
    "from sklearn.feature_extraction.text import CountVectorizer"
   ]
  },
  {
   "cell_type": "code",
   "execution_count": 9,
   "metadata": {},
   "outputs": [
    {
     "name": "stdout",
     "output_type": "stream",
     "text": [
      "        Domain Label  Rating  \\\n",
      "0    Movies_TV   POS       5   \n",
      "1    Movies_TV   NEU       3   \n",
      "2    Movies_TV   POS       4   \n",
      "3    Movies_TV   POS       5   \n",
      "4    Movies_TV   POS       5   \n",
      "..         ...   ...     ...   \n",
      "995  Movies_TV   POS       5   \n",
      "996  Movies_TV   POS       4   \n",
      "997  Movies_TV   POS       4   \n",
      "998  Movies_TV   POS       5   \n",
      "999  Movies_TV   POS       4   \n",
      "\n",
      "                                                Review  \n",
      "0    my boy love this film . sometime my youngest g...  \n",
      "1    on my disk the last scene of episode 2 : New E...  \n",
      "2    I have a 4yr old son and he love this cartoon ...  \n",
      "3    this sequal be wonderful . the animation be ex...  \n",
      "4    I really hope sci-fi never take off the doctor...  \n",
      "..                                                 ...  \n",
      "995  this it the perfect way to get insipred , get ...  \n",
      "996  Will Smith can do no wrong and he prove it onc...  \n",
      "997  Will Smith do it again ! after watch this movi...  \n",
      "998  I do not really think the quality could be imp...  \n",
      "999  first let I say right out that I enjoy every s...  \n",
      "\n",
      "[1000 rows x 4 columns]\n"
     ]
    }
   ],
   "source": [
    "class homeQuiz:\n",
    "    def extractData(self):\n",
    "        df = pd.read_csv(\"Movies_TV.txt\", delimiter=\"\\t\")\n",
    "        print(df)\n",
    "        \n",
    "hq = homeQuiz()\n",
    "hq.extractData()"
   ]
  },
  {
   "cell_type": "code",
   "execution_count": 15,
   "metadata": {},
   "outputs": [],
   "source": [
    "dataFrame = pd.read_csv(\"Movies_TV.txt\", delimiter='\\t')\n",
    "reviews = []\n",
    "for review in dataFrame.Review:\n",
    "    reviews.append(review)"
   ]
  },
  {
   "cell_type": "code",
   "execution_count": 16,
   "metadata": {},
   "outputs": [],
   "source": [
    "vec = TfidfVectorizer()\n",
    "X = vec.fit_transform(reviews)"
   ]
  },
  {
   "cell_type": "code",
   "execution_count": 18,
   "metadata": {},
   "outputs": [],
   "source": [
    "for i in X.toarray():\n",
    "    X = i\n",
    "    break"
   ]
  },
  {
   "cell_type": "code",
   "execution_count": 20,
   "metadata": {},
   "outputs": [
    {
     "name": "stdout",
     "output_type": "stream",
     "text": [
      "[0. 0. 0. ... 0. 0. 0.]\n"
     ]
    }
   ],
   "source": [
    "for i in X:\n",
    "    print"
   ]
  },
  {
   "cell_type": "code",
   "execution_count": null,
   "metadata": {},
   "outputs": [],
   "source": []
  }
 ],
 "metadata": {
  "kernelspec": {
   "display_name": "Python 3",
   "language": "python",
   "name": "python3"
  },
  "language_info": {
   "codemirror_mode": {
    "name": "ipython",
    "version": 3
   },
   "file_extension": ".py",
   "mimetype": "text/x-python",
   "name": "python",
   "nbconvert_exporter": "python",
   "pygments_lexer": "ipython3",
   "version": "3.7.6"
  }
 },
 "nbformat": 4,
 "nbformat_minor": 4
}
